{
 "cells": [
  {
   "cell_type": "code",
   "execution_count": 1,
   "metadata": {},
   "outputs": [
    {
     "name": "stdout",
     "output_type": "stream",
     "text": [
      "hello world\n"
     ]
    }
   ],
   "source": [
    "print(\"hello world\")"
   ]
  },
  {
   "cell_type": "code",
   "execution_count": 5,
   "metadata": {},
   "outputs": [
    {
     "name": "stdout",
     "output_type": "stream",
     "text": [
      "('sony', 20, 'telugu', 'cse', 'pspk', 'friedrice') 6 <class 'tuple'>\n",
      "('seethu', 'durga', 'sweety') 3 <class 'tuple'>\n"
     ]
    }
   ],
   "source": [
    "my_details=('sony',20,'telugu','cse','pspk','friedrice')\n",
    "print((my_details),len(my_details),type(my_details))\n",
    "myfriends=('seethu','durga','sweety')\n",
    "print(myfriends,len(myfriends),type(myfriends))\n",
    "\n"
   ]
  },
  {
   "cell_type": "code",
   "execution_count": 10,
   "metadata": {},
   "outputs": [
    {
     "name": "stdout",
     "output_type": "stream",
     "text": [
      "['guntur', 'nandhamuru', 'rjm', 'bhimavaram'] 4 <class 'list'>\n",
      "('guntur', 'nandhamuru', 'rjm', 'bhimavaram') 4 <class 'tuple'>\n"
     ]
    }
   ],
   "source": [
    "places=['guntur','nandhamuru','rjm','bhimavaram']\n",
    "print(places,len(places),type(places))\n",
    "#converting a list to tuple\n",
    "places_1=tuple(places)\n",
    "print(places_1,len(places_1),type(places_1))"
   ]
  },
  {
   "cell_type": "code",
   "execution_count": 14,
   "metadata": {},
   "outputs": [
    {
     "name": "stdout",
     "output_type": "stream",
     "text": [
      "('seethu', 'durga', 'sweety', 'guntur', 'nandhamuru', 'rjm', 'bhimavaram')\n"
     ]
    }
   ],
   "source": [
    "#combining two tules\n",
    "tup=(myfriends+places_1)\n",
    "print(tup)"
   ]
  },
  {
   "cell_type": "code",
   "execution_count": 17,
   "metadata": {},
   "outputs": [
    {
     "name": "stdout",
     "output_type": "stream",
     "text": [
      "[1, 2, 3, 4, 5] <class 'list'>\n",
      "(1, 2, 4, 5) <class 'tuple'>\n"
     ]
    }
   ],
   "source": [
    "tu=(1,2,3,4,5)\n",
    "li=list(tu)\n",
    "print(li,type(li))\n",
    "li.remove(3)#removing an element\n",
    "tu=tuple(li)\n",
    "print(tu,type(tu))"
   ]
  },
  {
   "cell_type": "code",
   "execution_count": 18,
   "metadata": {},
   "outputs": [
    {
     "name": "stdout",
     "output_type": "stream",
     "text": [
      "[1, 2, 3, 4, 5] <class 'list'>\n",
      "(1, 2, 3, 4, 5, 3) <class 'tuple'>\n"
     ]
    }
   ],
   "source": [
    "tu=(1,2,3,4,5)\n",
    "li=list(tu)\n",
    "print(li,type(li))\n",
    "li.append(3)#appending an element\n",
    "tu=tuple(li)\n",
    "print(tu,type(tu))"
   ]
  },
  {
   "cell_type": "code",
   "execution_count": 19,
   "metadata": {},
   "outputs": [
    {
     "name": "stdout",
     "output_type": "stream",
     "text": [
      "20\n",
      "(20, 'telugu', 'cse', 'pspk', 'friedrice')\n",
      "(20, 'pspk')\n",
      "6\n"
     ]
    }
   ],
   "source": [
    "print(my_details[1])\n",
    "print(my_details[1:])\n",
    "print(my_details[1::3])\n",
    "print(len(my_details))\n",
    "\n"
   ]
  },
  {
   "cell_type": "code",
   "execution_count": 31,
   "metadata": {},
   "outputs": [
    {
     "name": "stdout",
     "output_type": "stream",
     "text": [
      "35\n",
      "31\n",
      "165\n",
      "[31, 32, 33, 34, 35]\n",
      "<filter object at 0x0000018B90EC9A80>\n",
      "31\n",
      "32\n",
      "33\n",
      "34\n",
      "35\n",
      "(31, 32, 33, 34, 35) before del\n"
     ]
    },
    {
     "ename": "NameError",
     "evalue": "name 'numbers' is not defined",
     "output_type": "error",
     "traceback": [
      "\u001b[1;31m---------------------------------------------------------------------------\u001b[0m",
      "\u001b[1;31mNameError\u001b[0m                                 Traceback (most recent call last)",
      "Cell \u001b[1;32mIn[31], line 13\u001b[0m\n\u001b[0;32m     11\u001b[0m \u001b[39mprint\u001b[39m(numbers,\u001b[39m\"\u001b[39m\u001b[39mbefore del\u001b[39m\u001b[39m\"\u001b[39m)\n\u001b[0;32m     12\u001b[0m \u001b[39mdel\u001b[39;00m numbers\n\u001b[1;32m---> 13\u001b[0m \u001b[39mprint\u001b[39m(numbers)\n",
      "\u001b[1;31mNameError\u001b[0m: name 'numbers' is not defined"
     ]
    }
   ],
   "source": [
    "numbers=(31,32,33,34,35)\n",
    "print(max(numbers))\n",
    "print(min(numbers))\n",
    "print(sum(numbers))\n",
    "print(sorted(numbers))\n",
    "print(filter(lambda x: x>6,numbers))\n",
    "fill=filter(lambda x: x>6,numbers)\n",
    "for i in fill:\n",
    "    print(i)\n",
    "\n",
    "print(numbers,\"before del\")\n",
    "del numbers\n",
    "print(numbers)\n"
   ]
  },
  {
   "cell_type": "code",
   "execution_count": 32,
   "metadata": {},
   "outputs": [
    {
     "name": "stdout",
     "output_type": "stream",
     "text": [
      "sony\n",
      "20\n",
      "telugu\n",
      "cse\n",
      "pspk\n",
      "friedrice\n"
     ]
    }
   ],
   "source": [
    "for i in my_details:\n",
    "    print(i)"
   ]
  },
  {
   "cell_type": "code",
   "execution_count": 34,
   "metadata": {},
   "outputs": [
    {
     "name": "stdout",
     "output_type": "stream",
     "text": [
      "(0, 'sony')\n",
      "(1, 20)\n",
      "(2, 'telugu')\n",
      "(3, 'cse')\n",
      "(4, 'pspk')\n",
      "(5, 'friedrice')\n",
      "-5 sony\n",
      "-4 20\n",
      "-3 telugu\n",
      "-2 cse\n",
      "-1 pspk\n",
      "0 friedrice\n"
     ]
    }
   ],
   "source": [
    "for i in enumerate(my_details):\n",
    "    print(i)\n",
    "for count,item in enumerate(my_details,-5):\n",
    "    print(count,item)"
   ]
  },
  {
   "cell_type": "code",
   "execution_count": 46,
   "metadata": {},
   "outputs": [
    {
     "data": {
      "text/plain": [
       "['__class__',\n",
       " '__class_getitem__',\n",
       " '__contains__',\n",
       " '__delattr__',\n",
       " '__delitem__',\n",
       " '__dir__',\n",
       " '__doc__',\n",
       " '__eq__',\n",
       " '__format__',\n",
       " '__ge__',\n",
       " '__getattribute__',\n",
       " '__getitem__',\n",
       " '__getstate__',\n",
       " '__gt__',\n",
       " '__hash__',\n",
       " '__init__',\n",
       " '__init_subclass__',\n",
       " '__ior__',\n",
       " '__iter__',\n",
       " '__le__',\n",
       " '__len__',\n",
       " '__lt__',\n",
       " '__ne__',\n",
       " '__new__',\n",
       " '__or__',\n",
       " '__reduce__',\n",
       " '__reduce_ex__',\n",
       " '__repr__',\n",
       " '__reversed__',\n",
       " '__ror__',\n",
       " '__setattr__',\n",
       " '__setitem__',\n",
       " '__sizeof__',\n",
       " '__str__',\n",
       " '__subclasshook__',\n",
       " 'clear',\n",
       " 'copy',\n",
       " 'fromkeys',\n",
       " 'get',\n",
       " 'items',\n",
       " 'keys',\n",
       " 'pop',\n",
       " 'popitem',\n",
       " 'setdefault',\n",
       " 'update',\n",
       " 'values']"
      ]
     },
     "execution_count": 46,
     "metadata": {},
     "output_type": "execute_result"
    }
   ],
   "source": [
    "dir(dict)"
   ]
  },
  {
   "cell_type": "code",
   "execution_count": 55,
   "metadata": {},
   "outputs": [
    {
     "name": "stdout",
     "output_type": "stream",
     "text": [
      "{'name': 'sony', 'place': 'bhimavaram', 'age': 20, 'native': 'bhimavram', 'mothertongue': 'telugu', 'favfood': 'noodles', 'favactoe': 'pspk'} 7 <class 'dict'>\n"
     ]
    }
   ],
   "source": [
    "my_details={'name':'sony','place':'bhimavaram','age':20,'native':'bhimavram','mothertongue':'telugu','favfood':'noodles','favactoe':'pspk'}\n",
    "print(my_details,len(my_details),type(my_details))\n"
   ]
  },
  {
   "cell_type": "code",
   "execution_count": 56,
   "metadata": {},
   "outputs": [
    {
     "name": "stdout",
     "output_type": "stream",
     "text": [
      "{3: 'seethu', 4: 'sweety'}\n",
      "dict_keys([3, 4]) dict_items([(3, 'seethu'), (4, 'sweety')]) dict_values(['seethu', 'sweety'])\n",
      "(3, 'seethu')\n",
      "(4, 'sweety')\n"
     ]
    }
   ],
   "source": [
    "my_details={3:'seethu',4:'sweety'}\n",
    "print(my_details)\n",
    "print(my_details.keys(),my_details.items(),my_details.values())\n",
    "#iterate using a for loop\n",
    "for i in my_details.items():\n",
    "    print(i)"
   ]
  },
  {
   "cell_type": "code",
   "execution_count": 57,
   "metadata": {},
   "outputs": [
    {
     "name": "stdout",
     "output_type": "stream",
     "text": [
      "{1: 'saisri', 2: 'sindhu'}\n",
      "sony\n"
     ]
    }
   ],
   "source": [
    "my_details1={1:'saisri',2:'sindhu'}\n",
    "print(my_details1)\n",
    "my_details1=\"sony\"\n",
    "print(my_details1)"
   ]
  },
  {
   "cell_type": "code",
   "execution_count": 59,
   "metadata": {},
   "outputs": [
    {
     "name": "stdout",
     "output_type": "stream",
     "text": [
      "{}\n"
     ]
    }
   ],
   "source": [
    "my_details.clear()\n",
    "print(my_details)"
   ]
  },
  {
   "cell_type": "code",
   "execution_count": 69,
   "metadata": {},
   "outputs": [
    {
     "name": "stdout",
     "output_type": "stream",
     "text": [
      "{'name': 'sony', 'place': 'bhimavaram', 'age': 20, 'native': 'bhimavram', 'mothertongue': 'telugu', 'favfood': 'noodles', 'favactoe': 'pspk'} 7 <class 'dict'>\n",
      "{'name': 'sony', 'place': 'bhimavaram', 'age': 20, 'native': 'bhimavram', 'mothertongue': 'telugu', 'favfood': 'noodles'}\n",
      "{'name': 'sony', 'place': 'bhimavaram', 'age': 20, 'native': 'bhimavram', 'mothertongue': 'telugu', 'favfood': 'noodles', 1: 'kavya'}\n"
     ]
    }
   ],
   "source": [
    "my_details={'name':'sony','place':'bhimavaram','age':20,'native':'bhimavram','mothertongue':'telugu','favfood':'noodles','favactoe':'pspk'}\n",
    "print(my_details,len(my_details),type(my_details))\n",
    "my_details.popitem()\n",
    "print(my_details)\n",
    "my_details.update({1:'kavya'})\n",
    "print(my_details)"
   ]
  },
  {
   "cell_type": "code",
   "execution_count": 98,
   "metadata": {},
   "outputs": [
    {
     "name": "stdout",
     "output_type": "stream",
     "text": [
      "{'name': 'sony', 'age': 20, 'dept': 'cse'}\n",
      "{'name', 'dept', 'age'} <class 'set'>\n",
      "['name', 'age', 'dept']\n",
      "['name', 'age', 'dept', 'name', 'age', 'dept', 'name', 'age', 'dept']\n",
      "{'name', 'dept', 'age'}\n",
      "name\n",
      "dept\n",
      "age\n",
      "False\n",
      "True\n",
      "{'name', 'dept', 'age', 'seethu'}\n",
      "{'dept', 'age', 'a', 'name', 'seethu', 'c', 'b'}\n",
      "{'dept', 'age', 'a', 'name', 'seethu', 'c', 'b'}\n",
      "{'dept', 'age', 'a', 'name', 'seethu', 'c', 'b'}\n",
      "{1, 2, 'dept', 'age', 3, 4, 5, 'a', 'name', 'seethu', 'c', 'b'}\n",
      "{1, 'dept', 'age', 3, 4, 5, 'a', 'name', 'seethu', 'c', 'b'}\n",
      "{1, 'dept', 'age', 3, 4, 5, 'a', 'name', 'seethu', 'c', 'b'}\n",
      "{'dept', 'age', 3, 4, 5, 'a', 'name', 'seethu', 'c', 'b'}\n",
      "set()\n"
     ]
    },
    {
     "ename": "NameError",
     "evalue": "name 'a' is not defined",
     "output_type": "error",
     "traceback": [
      "\u001b[1;31m---------------------------------------------------------------------------\u001b[0m",
      "\u001b[1;31mNameError\u001b[0m                                 Traceback (most recent call last)",
      "Cell \u001b[1;32mIn[98], line 34\u001b[0m\n\u001b[0;32m     32\u001b[0m myset\u001b[39m.\u001b[39mclear()\n\u001b[0;32m     33\u001b[0m \u001b[39mprint\u001b[39m(myset)\n\u001b[1;32m---> 34\u001b[0m d\u001b[39m=\u001b[39ma\u001b[39m.\u001b[39msymmetric_difference(d)\n\u001b[0;32m     35\u001b[0m \u001b[39mprint\u001b[39m(d)\n",
      "\u001b[1;31mNameError\u001b[0m: name 'a' is not defined"
     ]
    }
   ],
   "source": [
    "my_details1={'name':'sony','age':20,'dept':'cse',}\n",
    "print(my_details1)\n",
    "myset=set(my_details1)\n",
    "print(myset,type(myset))\n",
    "mydetails1=list(my_details1)\n",
    "print(mydetails1)\n",
    "print(mydetails1*3)\n",
    "myset=set(mydetails1)\n",
    "print(myset)\n",
    "for i in myset:\n",
    "    print(i)\n",
    "print('rani' in myset)\n",
    "print('name' in myset)\n",
    "myset.add('seethu')\n",
    "print(myset)\n",
    "friends=[\"a\",\"b\",\"c\"]\n",
    "myset.update(friends)\n",
    "print(myset)\n",
    "myset.update(friends)\n",
    "print(myset)\n",
    "myset.union(friends)\n",
    "print(myset)\n",
    "list1=[1,2,3,4,5]\n",
    "myset.update(list1)\n",
    "print(myset)\n",
    "myset.remove(2)\n",
    "print(myset)\n",
    "myset.discard(2)\n",
    "print(myset)\n",
    "myset.pop()\n",
    "print(myset)\n",
    "myset.clear()\n",
    "print(myset)\n",
    "d=a.symmetric_difference(d)\n",
    "print(d)"
   ]
  },
  {
   "cell_type": "code",
   "execution_count": null,
   "metadata": {},
   "outputs": [],
   "source": []
  }
 ],
 "metadata": {
  "kernelspec": {
   "display_name": "Python 3",
   "language": "python",
   "name": "python3"
  },
  "language_info": {
   "codemirror_mode": {
    "name": "ipython",
    "version": 3
   },
   "file_extension": ".py",
   "mimetype": "text/x-python",
   "name": "python",
   "nbconvert_exporter": "python",
   "pygments_lexer": "ipython3",
   "version": "3.11.3"
  },
  "orig_nbformat": 4
 },
 "nbformat": 4,
 "nbformat_minor": 2
}
