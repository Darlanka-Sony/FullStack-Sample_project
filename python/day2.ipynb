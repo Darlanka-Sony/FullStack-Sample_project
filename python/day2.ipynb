{
 "cells": [
  {
   "cell_type": "code",
   "execution_count": 1,
   "metadata": {},
   "outputs": [
    {
     "name": "stdout",
     "output_type": "stream",
     "text": [
      "ECE\n",
      "EEE\n",
      "CSE\n"
     ]
    }
   ],
   "source": [
    "SRKR=['ECE','EEE','CSE','IT','MECH','CIVIL']\n",
    "for dept in SRKR:\n",
    "    if(dept=='IT'):\n",
    "        break\n",
    "    print(dept)"
   ]
  },
  {
   "cell_type": "code",
   "execution_count": 2,
   "metadata": {},
   "outputs": [
    {
     "name": "stdout",
     "output_type": "stream",
     "text": [
      "ECE\n",
      "EEE\n",
      "CSE\n",
      "MECH\n",
      "CIVIL\n"
     ]
    }
   ],
   "source": [
    "SRKR=['ECE','EEE','CSE','IT','MECH','CIVIL']\n",
    "for dept in SRKR:\n",
    "    if(dept=='IT'):\n",
    "        continue\n",
    "    print(dept)"
   ]
  },
  {
   "cell_type": "code",
   "execution_count": 17,
   "metadata": {},
   "outputs": [
    {
     "name": "stdout",
     "output_type": "stream",
     "text": [
      "ECE\n",
      "EEE\n",
      "CSE\n",
      "MECH\n"
     ]
    }
   ],
   "source": [
    "SRKR=['ECE','EEE','CSE','IT','MECH','CIVIL']\n",
    "for dept in SRKR:\n",
    "    if(dept!='IT' and dept!='CIVIL'):\n",
    "        print(dept)\n",
    "    else:\n",
    "        continue"
   ]
  },
  {
   "cell_type": "code",
   "execution_count": 10,
   "metadata": {},
   "outputs": [
    {
     "name": "stdout",
     "output_type": "stream",
     "text": [
      "0\n",
      "1\n",
      "2\n",
      "3\n",
      "4\n",
      "5\n",
      "6\n",
      "7\n",
      "8\n",
      "9\n",
      "10\n",
      "11\n"
     ]
    }
   ],
   "source": [
    "for x in range(12):\n",
    "    print(x)"
   ]
  },
  {
   "cell_type": "code",
   "execution_count": 18,
   "metadata": {},
   "outputs": [
    {
     "name": "stdout",
     "output_type": "stream",
     "text": [
      "1085\n"
     ]
    }
   ],
   "source": [
    "sum=0\n",
    "for i in range(20,51):\n",
    "    sum=sum+i\n",
    "print(sum)\n"
   ]
  },
  {
   "cell_type": "code",
   "execution_count": 19,
   "metadata": {},
   "outputs": [
    {
     "name": "stdout",
     "output_type": "stream",
     "text": [
      "1 seethu\n",
      "1 sony\n",
      "1 siri\n",
      "1 sindhu\n",
      "1 srija\n",
      "2 seethu\n",
      "2 sony\n",
      "2 siri\n",
      "2 sindhu\n",
      "2 srija\n",
      "3 seethu\n",
      "3 sony\n",
      "3 siri\n",
      "3 sindhu\n",
      "3 srija\n",
      "4 seethu\n",
      "4 sony\n",
      "4 siri\n",
      "4 sindhu\n",
      "4 srija\n",
      "5 seethu\n",
      "5 sony\n",
      "5 siri\n",
      "5 sindhu\n",
      "5 srija\n"
     ]
    }
   ],
   "source": [
    "nums=1,2,3,4,5\n",
    "names='seethu','sony','siri','sindhu','srija'\n",
    "for x in nums:\n",
    "    for y in names:\n",
    "        print(x,y)"
   ]
  },
  {
   "cell_type": "code",
   "execution_count": 22,
   "metadata": {},
   "outputs": [
    {
     "name": "stdout",
     "output_type": "stream",
     "text": [
      "1 CSE\n",
      "1 ECE\n",
      "2 CSE\n",
      "2 ECE\n",
      "3 CSE\n",
      "3 ECE\n",
      "4 CSE\n",
      "4 ECE\n",
      "5 CSE\n",
      "5 ECE\n"
     ]
    }
   ],
   "source": [
    "nums=1,2,3,4,5\n",
    "names='CSE','ECE'\n",
    "for x in nums:\n",
    "    for y in names:\n",
    "        print(x,y)"
   ]
  },
  {
   "cell_type": "code",
   "execution_count": 29,
   "metadata": {},
   "outputs": [
    {
     "name": "stdout",
     "output_type": "stream",
     "text": [
      "11\n",
      "12\n"
     ]
    }
   ],
   "source": [
    "i=10\n",
    "while(i<15):\n",
    "    if(i==12):\n",
    "        break\n",
    "    i=i+1\n",
    "    print(i)"
   ]
  },
  {
   "cell_type": "code",
   "execution_count": 30,
   "metadata": {},
   "outputs": [
    {
     "name": "stdout",
     "output_type": "stream",
     "text": [
      "11\n",
      "13\n",
      "14\n",
      "15\n"
     ]
    }
   ],
   "source": [
    "i=10\n",
    "while(i<15):\n",
    "    i=i+1\n",
    "    if(i==12):\n",
    "        continue\n",
    "    print(i)"
   ]
  },
  {
   "cell_type": "code",
   "execution_count": 31,
   "metadata": {},
   "outputs": [
    {
     "name": "stdout",
     "output_type": "stream",
     "text": [
      "r n a\n",
      "l j i b\n"
     ]
    }
   ],
   "source": [
    "a=\"brinjal\"\n",
    "print(a[1],a[3],a[5])\n",
    "print(a[-1],a[-3],a[-5],a[-7])"
   ]
  },
  {
   "cell_type": "code",
   "execution_count": 32,
   "metadata": {},
   "outputs": [
    {
     "name": "stdout",
     "output_type": "stream",
     "text": [
      "sonyseethusiri\n",
      "sonysonysony\n"
     ]
    }
   ],
   "source": [
    "a='sony'\n",
    "b='seethu'\n",
    "c='siri'\n",
    "d=3\n",
    "print(a+b+c)\n",
    "print(a*d)"
   ]
  },
  {
   "cell_type": "code",
   "execution_count": 33,
   "metadata": {},
   "outputs": [
    {
     "name": "stdout",
     "output_type": "stream",
     "text": [
      "d\n",
      "81\n",
      "35\n"
     ]
    }
   ],
   "source": [
    "a=100\n",
    "b=chr(a)\n",
    "print(b)\n",
    "q='Q'\n",
    "print(ord(q))\n",
    "print(ord('#'))"
   ]
  },
  {
   "cell_type": "code",
   "execution_count": 34,
   "metadata": {},
   "outputs": [
    {
     "name": "stdout",
     "output_type": "stream",
     "text": [
      "#\n",
      "39\n",
      "(45+34j) <class 'str'>\n"
     ]
    }
   ],
   "source": [
    "a=35\n",
    "print(chr(a))\n",
    "a=\"I am the best person in the whole world\"\n",
    "print(len(a))\n",
    "a=str(45+34j)\n",
    "print(a,type(a))"
   ]
  },
  {
   "cell_type": "code",
   "execution_count": 35,
   "metadata": {},
   "outputs": [
    {
     "name": "stdout",
     "output_type": "stream",
     "text": [
      "13\n"
     ]
    },
    {
     "data": {
      "text/plain": [
       "'vin barathi'"
      ]
     },
     "execution_count": 35,
     "metadata": {},
     "output_type": "execute_result"
    }
   ],
   "source": [
    "a=\"kavin barathi\"\n",
    "print(len(a))\n",
    "a[2]\n",
    "a[2:14]\n"
   ]
  },
  {
   "cell_type": "code",
   "execution_count": 38,
   "metadata": {},
   "outputs": [
    {
     "name": "stdout",
     "output_type": "stream",
     "text": [
      "cell\n"
     ]
    }
   ],
   "source": [
    "a=\"miscellanious\"\n",
    "print(a[3:7])"
   ]
  },
  {
   "cell_type": "code",
   "execution_count": 41,
   "metadata": {},
   "outputs": [
    {
     "name": "stdout",
     "output_type": "stream",
     "text": [
      "I am sony\n",
      "I am seethu\n",
      "I am siri\n",
      "I am sindhu\n",
      "I am sweety\n"
     ]
    }
   ],
   "source": [
    "#creating a list containg five names\n",
    "names=['sony','seethu','siri','sindhu','sweety']\n",
    "for i in names:\n",
    "    print(f\"I am {i}\")"
   ]
  },
  {
   "cell_type": "code",
   "execution_count": 50,
   "metadata": {},
   "outputs": [
    {
     "name": "stdout",
     "output_type": "stream",
     "text": [
      "Srkr is a wonderfull college\n",
      "SRKR IS A WONDERFULL COLLEGE\n",
      "srkr is a wonderfull college\n",
      "Srkr Is A Wonderfull College\n",
      "SRKR IS A WONDERFULL COLLEGE\n",
      "False\n",
      "True\n",
      "3\n",
      "False\n",
      "14\n"
     ]
    }
   ],
   "source": [
    "a=\"srkr is a wonderfull college\"\n",
    "print(a.capitalize())\n",
    "print(a.upper())\n",
    "print(a.lower())\n",
    "print(a.title())\n",
    "print(a.swapcase())\n",
    "print(a.endswith('C'))\n",
    "print(a.isprintable())\n",
    "print(a.count('e'))\n",
    "print(a.startswith('raju'))\n",
    "print(a.find('e'))"
   ]
  },
  {
   "cell_type": "code",
   "execution_count": 58,
   "metadata": {},
   "outputs": [
    {
     "name": "stdout",
     "output_type": "stream",
     "text": [
      "660\n",
      "23\n",
      "9\n"
     ]
    }
   ],
   "source": [
    "a=[23,43,54,56,76,74,28,59,660]\n",
    "max_value=max(a)\n",
    "print(max_value)\n",
    "min_value=min(a)\n",
    "print(min_value)\n",
    "no_of_obj=len(a)\n",
    "print(no_of_obj)"
   ]
  },
  {
   "cell_type": "code",
   "execution_count": 59,
   "metadata": {},
   "outputs": [
    {
     "name": "stdout",
     "output_type": "stream",
     "text": [
      "2\n"
     ]
    }
   ],
   "source": [
    "a=input()\n",
    "print(a)"
   ]
  },
  {
   "cell_type": "code",
   "execution_count": 62,
   "metadata": {},
   "outputs": [
    {
     "name": "stdout",
     "output_type": "stream",
     "text": [
      "hello sony\n"
     ]
    }
   ],
   "source": [
    "def user(name):\n",
    "    print(\"hello\",name)\n",
    "    \n",
    "name=input(\"enter name:\")    \n",
    "user(name)"
   ]
  },
  {
   "cell_type": "code",
   "execution_count": 65,
   "metadata": {},
   "outputs": [
    {
     "data": {
      "text/plain": [
       "7"
      ]
     },
     "execution_count": 65,
     "metadata": {},
     "output_type": "execute_result"
    }
   ],
   "source": [
    "def sum(a,b):\n",
    "    return a+b\n",
    "\n",
    "sum(3,4)"
   ]
  },
  {
   "cell_type": "code",
   "execution_count": 67,
   "metadata": {},
   "outputs": [
    {
     "data": {
      "text/plain": [
       "12"
      ]
     },
     "execution_count": 67,
     "metadata": {},
     "output_type": "execute_result"
    }
   ],
   "source": [
    "def prod(a,b):\n",
    "    return a*b\n",
    "\n",
    "prod(3,4)"
   ]
  },
  {
   "cell_type": "code",
   "execution_count": 68,
   "metadata": {},
   "outputs": [],
   "source": [
    "def divby5(a):\n",
    "    if(a%5==0):\n",
    "        print(\"divisible\")\n",
    "    else:\n",
    "        print(\"not divisible\")\n",
    "    divby5(32)"
   ]
  },
  {
   "cell_type": "code",
   "execution_count": 69,
   "metadata": {},
   "outputs": [
    {
     "data": {
      "text/plain": [
       "20.0"
      ]
     },
     "execution_count": 69,
     "metadata": {},
     "output_type": "execute_result"
    }
   ],
   "source": [
    "def div1(numer=10,den=5):\n",
    "    c=numer/den\n",
    "    return c\n",
    "div1(numer=45,den=3)\n",
    "\n",
    "div1(den=3,numer=60)"
   ]
  },
  {
   "cell_type": "code",
   "execution_count": 78,
   "metadata": {},
   "outputs": [
    {
     "name": "stdout",
     "output_type": "stream",
     "text": [
      "30\n"
     ]
    }
   ],
   "source": [
    "def big(a,b,c):\n",
    "    if(a>b):\n",
    "        print(a)\n",
    "    elif(b>c):\n",
    "        print(b)\n",
    "    else:\n",
    "        print(c)\n",
    "big(30,15,10)"
   ]
  },
  {
   "cell_type": "code",
   "execution_count": 82,
   "metadata": {},
   "outputs": [
    {
     "name": "stdout",
     "output_type": "stream",
     "text": [
      "welcome\n",
      "using __doc__:\n",
      " this is a soc string \n",
      "using help:\n",
      "Help on function greetings in module __main__:\n",
      "\n",
      "greetings()\n",
      "    this is a soc string\n",
      "\n"
     ]
    }
   ],
   "source": [
    "def greetings():\n",
    "    ''' this is a soc string '''\n",
    "    print(\"welcome\")\n",
    "greetings()\n",
    "print(\"using __doc__:\")\n",
    "print(greetings.__doc__)\n",
    "\n",
    "print(\"using help:\")\n",
    "help(greetings)"
   ]
  },
  {
   "cell_type": "code",
   "execution_count": 83,
   "metadata": {},
   "outputs": [
    {
     "name": "stdout",
     "output_type": "stream",
     "text": [
      "Help on built-in function len in module builtins:\n",
      "\n",
      "len(obj, /)\n",
      "    Return the number of items in a container.\n",
      "\n",
      "None\n"
     ]
    }
   ],
   "source": [
    "print(help(len))"
   ]
  },
  {
   "cell_type": "code",
   "execution_count": 84,
   "metadata": {},
   "outputs": [
    {
     "name": "stdout",
     "output_type": "stream",
     "text": [
      "Help on function friends in module __main__:\n",
      "\n",
      "friends()\n",
      "    sony,seethu,sweety\n",
      "\n"
     ]
    }
   ],
   "source": [
    "#print your friends names\n",
    "def friends():\n",
    "    ''' sony,seethu,sweety '''\n",
    "help(friends)"
   ]
  },
  {
   "cell_type": "code",
   "execution_count": null,
   "metadata": {},
   "outputs": [],
   "source": []
  }
 ],
 "metadata": {
  "kernelspec": {
   "display_name": "Python 3",
   "language": "python",
   "name": "python3"
  },
  "language_info": {
   "codemirror_mode": {
    "name": "ipython",
    "version": 3
   },
   "file_extension": ".py",
   "mimetype": "text/x-python",
   "name": "python",
   "nbconvert_exporter": "python",
   "pygments_lexer": "ipython3",
   "version": "3.11.3"
  },
  "orig_nbformat": 4
 },
 "nbformat": 4,
 "nbformat_minor": 2
}
